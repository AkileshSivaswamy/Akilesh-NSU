{
 "cells": [
  {
   "cell_type": "code",
   "execution_count": 1,
   "metadata": {
    "collapsed": true
   },
   "outputs": [],
   "source": [
    "import pandas as pd\n",
    "import numpy as np"
   ]
  },
  {
   "cell_type": "code",
   "execution_count": 2,
   "metadata": {
    "collapsed": true
   },
   "outputs": [],
   "source": [
    "# We can load any dataset and pass it in \n",
    "# the function find_unique_first_column:\n",
    "dataset = pd.read_csv('C://Users/akilesh/Downloads/weather_nominal.csv')\n",
    "PA_B = []\n",
    "PB_A = []"
   ]
  },
  {
   "cell_type": "code",
   "execution_count": 3,
   "metadata": {
    "collapsed": true
   },
   "outputs": [],
   "source": [
    "\n",
    "# Finding P(A|B):\n",
    "# This code is independennt of text or numeric\n",
    "def prob_cal(d,P):\n",
    "    f = 0\n",
    "    p = [1]*(len(d))\n",
    "    c = 0\n",
    "    z = 0\n",
    "    k = 1\n",
    "    ud = []\n",
    "    ud = list(ud)\n",
    "    p = list(p)\n",
    "    n = d.columns[0:len(d.columns)]\n",
    "    n = list(n)\n",
    "    while k < len(d.columns):\n",
    "        u = d[n[k]].unique()\n",
    "        u =list(u)\n",
    "        lo = d[n[k]]\n",
    "        lo = list(lo)\n",
    "        l = len(u)\n",
    "        while f < l:\n",
    "            s = u[f]\n",
    "            f = f+1\n",
    "            while z < len(lo):\n",
    "                if lo[z] == s:\n",
    "                    c = c+1\n",
    "                    pr = c/len(d)\n",
    "                    z = z+1\n",
    "                else:\n",
    "                    z = z+1\n",
    "            ud.append(pr)\n",
    "        # Multiplication of the probabilities with respect to the \n",
    "        # class of the element(as stated in naive bayes theorem): \n",
    "        [ud*p for ud,p in zip(ud,p)]\n",
    "        p = ud\n",
    "        k = k+1\n",
    "    print (\"The probability of playing golf in this weather is: \",\n",
    "          ud[1]*100, \"%\")\n",
    "    P.append(ud[1])\n",
    "    return P"
   ]
  },
  {
   "cell_type": "code",
   "execution_count": 4,
   "metadata": {
    "collapsed": true
   },
   "outputs": [],
   "source": [
    "\n",
    "def find_unique_first_column(d,P):\n",
    "    i = 0\n",
    "    j = 0\n",
    "    col_element = d.iloc[:,0].unique()\n",
    "    col_element = list(col_element)\n",
    "    col_unique = []\n",
    "    while j < len(col_element):\n",
    "        while i < len(d):\n",
    "            if col_element[j] == d.iloc[i,0]:\n",
    "                col_unique.append(d.iloc[i,:])\n",
    "                print(col_unique)\n",
    "                i = i+1\n",
    "            else:\n",
    "                i = i+1\n",
    "        col_unique = pd.DataFrame(col_unique)\n",
    "        prob_cal(col_unique, P)\n",
    "        col_unique = []\n",
    "        i = 0\n",
    "        j = j+1\n",
    "        \n",
    "# for finding P(B|A)\n",
    "def p_b_a(d,P):\n",
    "    d1 = d\n",
    "    c = d.columns\n",
    "    d1[[c[0], c[len(d.columns)-1]]] = d1[[c[len(d.columns)-1], c[0]]]\n",
    "    find_unique_first_column(d1, P)\n",
    "    \n",
    "    \n",
    "        "
   ]
  },
  {
   "cell_type": "code",
   "execution_count": 6,
   "metadata": {},
   "outputs": [],
   "source": [
    "\n",
    "# Calculate P(A)\n",
    "def P_a(d):\n",
    "    P_a = []\n",
    "    count_a = 0\n",
    "    i = 0\n",
    "    j = 0\n",
    "    col_element = d.iloc[:,0].unique()\n",
    "    col_element = list(col_element)\n",
    "    while j < len(col_element):\n",
    "        while i < len(d):\n",
    "            if col_element[j] == d.iloc[i,0]:\n",
    "                count_a = count_a + 1\n",
    "                i = i+1\n",
    "            else:\n",
    "                i = i+1\n",
    "        P_a.append(count_a/len(d))\n",
    "        j = j+1\n",
    "        i = 0\n",
    "    return P_a\n",
    "\n",
    "# Calculate P(B)\n",
    "def P_b(d):\n",
    "    P_b = []\n",
    "    count_b = 0\n",
    "    i = 0\n",
    "    j = 0\n",
    "    col_element = d.iloc[:,len(d.columns) - 1].unique()\n",
    "    col_element = list(col_element)\n",
    "    while j < len(col_element):\n",
    "        while i < len(d):\n",
    "            if col_element[j] == d.iloc[i,len(d.columns)-1]:\n",
    "                count_b = count_b + 1\n",
    "                i = i+1\n",
    "            else:\n",
    "                i = i+1\n",
    "        P_b.append(count_b/len(d))\n",
    "        j = j+1\n",
    "        i = 0\n",
    "    return P_b\n",
    "\n",
    "\n",
    "            \n",
    "            \n",
    "        \n",
    "        \n",
    "        \n",
    "    "
   ]
  },
  {
   "cell_type": "code",
   "execution_count": null,
   "metadata": {},
   "outputs": [],
   "source": [
    "\n",
    "def overall_prob(P):\n",
    "    i = 0\n",
    "    s = 1\n",
    "    while i < len(P):\n",
    "        P[i] = P[i]*s\n",
    "        s = P[i]\n",
    "        i = i+1\n",
    "    P = []    \n",
    "    P = s\n",
    "    return P\n",
    "        "
   ]
  },
  {
   "cell_type": "code",
   "execution_count": null,
   "metadata": {},
   "outputs": [],
   "source": [
    "set_p = [PA_B, PB_A, P_a(dataset), P_b(dataset)] \n",
    "\n",
    "# check accuracy P(A|B)={P(B|A)*P(A)}/{P(B)}\n",
    "def find_accuracy(s):\n",
    "    Acc = overall_prob(PA_B)/(overall_prob(PB_A)\n",
    "      *overall_prob(P_a(dataset))/overall_prob(P_b(dataset)))*100\n",
    "    print ('Test Accuracy:' , Acc, '%')\n",
    "    return Acc\n",
    "\n",
    "\n",
    "find_unique_first_column(dataset, PA_B)\n",
    "p_b_a(dataset, PB_A)\n",
    "find_accuracy(set_p)\n",
    "\n"
   ]
  }
 ],
 "metadata": {
  "kernelspec": {
   "display_name": "Python 3",
   "language": "python",
   "name": "python3"
  },
  "language_info": {
   "codemirror_mode": {
    "name": "ipython",
    "version": 3
   },
   "file_extension": ".py",
   "mimetype": "text/x-python",
   "name": "python",
   "nbconvert_exporter": "python",
   "pygments_lexer": "ipython3",
   "version": "3.6.1"
  }
 },
 "nbformat": 4,
 "nbformat_minor": 2
}
